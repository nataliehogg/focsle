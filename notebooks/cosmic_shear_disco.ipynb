{
 "cells": [
  {
   "cell_type": "markdown",
   "id": "e0fb1499",
   "metadata": {},
   "source": [
    "# Computing cosmic shear correlations"
   ]
  },
  {
   "cell_type": "markdown",
   "id": "abac9c14-28cc-469d-af21-9b16b3c5b9e2",
   "metadata": {},
   "source": [
    "This is an example notebook for the computation of the cosmic shear correlation functions.\n",
    "\n",
    "**Authors**: Pierre Fleury, Natalie Hogg\n",
    "\n",
    "**Goal**: JAXify and bin everything."
   ]
  },
  {
   "cell_type": "code",
   "execution_count": 1,
   "id": "16977f4f-8388-42d6-94a9-2e844e267224",
   "metadata": {},
   "outputs": [
    {
     "name": "stdout",
     "output_type": "stream",
     "text": [
      "Using CAMB 1.5.4 installed at /home/nataliehogg/anaconda3/lib/python3.11/site-packages/camb\n"
     ]
    }
   ],
   "source": [
    "# Load packages, including CAMB\n",
    "%matplotlib inline\n",
    "import sys, platform, os\n",
    "# import matplotlib\n",
    "import matplotlib.pyplot as plt\n",
    "# # Use TeX\n",
    "# from matplotlib import rc\n",
    "# rc('text', usetex=True)\n",
    "# rc('font', family='serif')\n",
    "# matplotlib.rcParams.update({'font.size': 18})\n",
    "\n",
    "plt.style.use('sanglier')\n",
    "\n",
    "#from scipy import constants, special, integrate, stats\n",
    "import numpy as np\n",
    "from scipy.interpolate import CubicSpline, RegularGridInterpolator\n",
    "from scipy import integrate\n",
    "from hankel import HankelTransform\n",
    "\n",
    "#Assume installed from github using \"git clone --recursive https://github.com/cmbant/CAMB.git\"\n",
    "#This file is then in the docs folders\n",
    "camb_path = os.path.realpath(os.path.join(os.getcwd(),'..'))\n",
    "sys.path.insert(0,camb_path)\n",
    "import camb\n",
    "from camb import model, initialpower\n",
    "print('Using CAMB %s installed at %s'%(camb.__version__,os.path.dirname(camb.__file__)))"
   ]
  },
  {
   "cell_type": "code",
   "execution_count": 2,
   "id": "87c99b01",
   "metadata": {},
   "outputs": [],
   "source": [
    "import jax\n",
    "jax.config.update(\"jax_enable_x64\", True)\n",
    "\n",
    "import jax.numpy as jnp\n",
    "\n",
    "from discoeb.background import evolve_background\n",
    "from discoeb.perturbations import evolve_perturbations, get_power"
   ]
  },
  {
   "cell_type": "code",
   "execution_count": 3,
   "id": "6e7a3739-16a5-49db-ace3-312fe8c2e2f8",
   "metadata": {},
   "outputs": [],
   "source": [
    "def radtoarcmin(angle_rad):\n",
    "    \"\"\"\n",
    "    This function converts an an angle expressed in radians\n",
    "    into arcmins.\n",
    "    \"\"\"\n",
    "    \n",
    "    angle_arcmin = angle_rad * 60 * 180 / np.pi\n",
    "    \n",
    "    return angle_arcmin\n",
    "\n",
    "\n",
    "def arcmintorad(angle_arcmin):\n",
    "    \"\"\"\n",
    "    This function converts an an angle expressed in arcmins\n",
    "    into radians.\n",
    "    \"\"\"\n",
    "    \n",
    "    angle_rad = angle_arcmin / (60 * 180 / np.pi)\n",
    "    \n",
    "    return angle_rad"
   ]
  },
  {
   "cell_type": "markdown",
   "id": "a2b27284",
   "metadata": {},
   "source": [
    "# Set up cosmology"
   ]
  },
  {
   "cell_type": "code",
   "execution_count": 4,
   "id": "d3843d9e",
   "metadata": {},
   "outputs": [],
   "source": [
    "Tcmb    = 2.7255 # CMB temp today\n",
    "YHe     = 0.248 # Helium fraction\n",
    "Omegam  = 0.3099\n",
    "Omegab  = 0.0488911\n",
    "Omegac  = Omegam - Omegab\n",
    "w_DE_0  = -0.99\n",
    "w_DE_a  = 0.0\n",
    "cs2_DE  = 1.0\n",
    "num_massive_neutrinos = 1\n",
    "mnu     = 0.06  #eV\n",
    "Tnu     = (4/11)**(1/3) #0.71611\n",
    "Neff    = 3.046 # -1 if massive neutrino present\n",
    "N_nu_mass = 1\n",
    "N_nu_rel = Neff - N_nu_mass * (Tnu/((4/11)**(1/3)))**4\n",
    "h       = 0.67742\n",
    "A_s     = 2.1064e-09\n",
    "n_s     = 0.96822\n",
    "k_p     = 0.05 # pivot scale\n",
    "\n",
    "g = (Tnu / (11/4)**(-1/3))**4 # 11/4 is g_0/g_*"
   ]
  },
  {
   "cell_type": "code",
   "execution_count": 5,
   "id": "f19ab64e",
   "metadata": {},
   "outputs": [],
   "source": [
    "# modes to sample\n",
    "nmodes = 10#512\n",
    "kmin = 1e-4\n",
    "kmax = 1e+1\n",
    "aexp = 1.0 # scale factor at which PS is evaluated"
   ]
  },
  {
   "cell_type": "code",
   "execution_count": 6,
   "id": "6202e85d",
   "metadata": {},
   "outputs": [],
   "source": [
    "z_fiducial = (1/aexp)-1"
   ]
  },
  {
   "cell_type": "markdown",
   "id": "40fb7370",
   "metadata": {},
   "source": [
    "# Matter power spectrum from DISCO-DJ"
   ]
  },
  {
   "cell_type": "code",
   "execution_count": 7,
   "id": "d40d5e74",
   "metadata": {},
   "outputs": [],
   "source": [
    "param = {}\n",
    "param['Omegam']  = Omegam\n",
    "param['Omegab']  = Omegab\n",
    "param['w_DE_0']  = w_DE_0\n",
    "param['w_DE_a']  = w_DE_a\n",
    "param['cs2_DE']  = cs2_DE\n",
    "param['Omegak']  = 0.0\n",
    "param['A_s']     = A_s\n",
    "param['n_s']     = n_s\n",
    "param['H0']      = 100*h\n",
    "param['Tcmb']    = Tcmb\n",
    "param['YHe']     = YHe\n",
    "param['Neff']    = N_nu_rel\n",
    "param['Nmnu']    = N_nu_mass\n",
    "param['mnu']     = mnu\n",
    "param['k_p'] = k_p"
   ]
  },
  {
   "cell_type": "code",
   "execution_count": 8,
   "id": "7217522c",
   "metadata": {},
   "outputs": [],
   "source": [
    "param = evolve_background(param=param, thermo_module='RECFAST')#, class_thermo=thermo)"
   ]
  },
  {
   "cell_type": "code",
   "execution_count": 9,
   "id": "781c0451",
   "metadata": {},
   "outputs": [],
   "source": [
    "Omeganu = param['Omegamnu']"
   ]
  },
  {
   "cell_type": "code",
   "execution_count": 10,
   "id": "6a7efaff",
   "metadata": {},
   "outputs": [],
   "source": [
    "aexp_out = jnp.array([aexp])\n",
    "y, kmodes = evolve_perturbations(param=param, kmin=kmin, kmax=kmax, num_k=nmodes, \n",
    "                                 aexp_out=aexp_out, rtol=1e-3, atol=1e-3)"
   ]
  },
  {
   "cell_type": "code",
   "execution_count": 11,
   "id": "96aca923",
   "metadata": {},
   "outputs": [],
   "source": [
    "Pkm = get_power(k=kmodes, y=y[:,0,:], idx=4, param=param)"
   ]
  },
  {
   "cell_type": "markdown",
   "id": "1c17b089",
   "metadata": {},
   "source": [
    "# Matter power spectrum from CAMB"
   ]
  },
  {
   "cell_type": "code",
   "execution_count": 12,
   "id": "81fce479",
   "metadata": {},
   "outputs": [],
   "source": [
    "pars = camb.CAMBparams(H0=100*h, ombh2=Omegab*h**2, omch2=Omegac*h**2, omnuh2=Omeganu*h**2, omk=0.0, YHe=YHe, \n",
    "                       TCMB=Tcmb, num_nu_massive=N_nu_mass, num_nu_massless=N_nu_rel, nu_mass_eigenstates = 1,\n",
    "                       nu_mass_fractions=[1.], nu_mass_degeneracies=[g * N_nu_mass], nu_mass_numbers=[1], \n",
    "                       share_delta_neff=False, MassiveNuMethod='Nu_int')"
   ]
  },
  {
   "cell_type": "code",
   "execution_count": 13,
   "id": "a661e9aa",
   "metadata": {},
   "outputs": [],
   "source": [
    "pars.set_dark_energy(w=w_DE_0, cs2=cs2_DE, wa=w_DE_a, dark_energy_model='fluid')\n",
    "pars.InitPower.set_params(As=A_s, ns=n_s, r=0)\n",
    "pars.set_accuracy(AccuracyBoost=3.0 , DoLateRadTruncation=False, lAccuracyBoost=3.0)\n",
    "pars.set_matter_power(redshifts=[1/aexp-1], kmax=kmax/h*1.1, accurate_massive_neutrino_transfers=True)\n",
    "pars.Reion.Reionization = False\n",
    "pars.Transfer.high_precision = True\n",
    "pars.Transfer.accurate_massive_neutrinos = True"
   ]
  },
  {
   "cell_type": "code",
   "execution_count": 14,
   "id": "a7cb1831",
   "metadata": {},
   "outputs": [],
   "source": [
    "results = camb.get_results(pars)"
   ]
  },
  {
   "cell_type": "code",
   "execution_count": 15,
   "id": "f0f98170",
   "metadata": {},
   "outputs": [],
   "source": [
    "kh_camb, z_camb, pkm_camb = results.get_matter_power_spectrum(minkh=kmin/h*1.001, maxkh=kmax/h*0.999, \n",
    "                                                              npoints = nmodes, var1='delta_tot', var2='delta_tot')"
   ]
  },
  {
   "cell_type": "code",
   "execution_count": 32,
   "id": "8097d765",
   "metadata": {},
   "outputs": [
    {
     "data": {
      "image/png": "[encoded data removed]",
      "text/plain": [
       "<Figure size 600x400 with 1 Axes>"
      ]
     },
     "metadata": {},
     "output_type": "display_data"
    }
   ],
   "source": [
    "# compare outputs\n",
    "\n",
    "fig, ax = plt.subplots(1,1, figsize=(6,4))\n",
    "ax.loglog(kmodes, Pkm, lw=3, label = 'DISCO-DJ')\n",
    "ax.loglog(kh_camb[1:]*h, pkm_camb[0,1:]/h**3, lw=3, label = 'CAMB')\n",
    "ax.set_xlabel('$k$ [Mpc$^{-1}$]')\n",
    "ax.set_ylabel(r'$P_{\\rm m}(k)$ [Mpc$^{3}$]')\n",
    "ax.legend()\n",
    "plt.show()"
   ]
  },
  {
   "cell_type": "markdown",
   "id": "1f624ce4",
   "metadata": {},
   "source": [
    "# Weyl power spectrum conversion"
   ]
  },
  {
   "cell_type": "code",
   "execution_count": 42,
   "id": "1de2945e",
   "metadata": {},
   "outputs": [],
   "source": [
    "@jax.jit\n",
    "def matter_to_weyl(pm, H0, Om, zfid):\n",
    "    '''\n",
    "    take a matter power spectrum and return a Weyl power spectrum\n",
    "    '''\n",
    "    clight = 3e5 # km/s\n",
    "    prefactor = (((3/2)*(H0**2)*Om)**2)*((1+zfid)**2)\n",
    "    pw = pm/prefactor\n",
    "\n",
    "    return pw"
   ]
  },
  {
   "cell_type": "markdown",
   "id": "9244238c",
   "metadata": {},
   "source": [
    "# Weyl power spectrum from DISCO-DJ"
   ]
  },
  {
   "cell_type": "code",
   "execution_count": 43,
   "id": "eb0e2874",
   "metadata": {},
   "outputs": [],
   "source": [
    "Pk_weyl = matter_to_weyl(Pkm, h*100, Omegam, z_fiducial)"
   ]
  },
  {
   "cell_type": "markdown",
   "id": "99ef6693-d276-4dd7-afd1-4933c6a93f93",
   "metadata": {},
   "source": [
    "# Weyl power spectrum from CAMB\n",
    "\n",
    "This is the step to compute $P_W(k, z)$, which in CAMB's convention is \n",
    "$$\n",
    "P_W(k, z) = \\left(\\frac{3}{2} H_0^2\\Omega_{\\rm m}\\right)^2 (1+z)^2 P_{\\rm m}(k, z)\n",
    "$$"
   ]
  },
  {
   "cell_type": "code",
   "execution_count": 20,
   "id": "2fc8df26",
   "metadata": {},
   "outputs": [],
   "source": [
    "kh_camb, z_camb, pkw_camb = results.get_matter_power_spectrum(minkh=kmin/h*1.001, maxkh=kmax/h*0.999, \n",
    "                                                              npoints = nmodes, var1='Weyl', var2='Weyl')"
   ]
  },
  {
   "cell_type": "code",
   "execution_count": 45,
   "id": "4ae481ac-5975-4816-a273-9d64c89a3c04",
   "metadata": {},
   "outputs": [
    {
     "data": {
      "image/png": "[encoded data removed]",
      "text/plain": [
       "<Figure size 640x480 with 1 Axes>"
      ]
     },
     "metadata": {},
     "output_type": "display_data"
    }
   ],
   "source": [
    "plt.loglog(kmodes, Pk_weyl, lw=3, label = 'DISCO-DJ')\n",
    "plt.loglog(kh_camb[1:]*h, pkw_camb[0,1:], lw=3, label='CAMB')\n",
    "\n",
    "plt.xlabel('$k$ [Mpc$^{-1}$]')\n",
    "plt.ylabel('$P_W$ [Mpc$^{3}$]')\n",
    "plt.legend()\n",
    "plt.show()"
   ]
  },
  {
   "cell_type": "code",
   "execution_count": 23,
   "id": "5d139078",
   "metadata": {},
   "outputs": [
    {
     "ename": "AssertionError",
     "evalue": "",
     "output_type": "error",
     "traceback": [
      "\u001b[0;31m---------------------------------------------------------------------------\u001b[0m",
      "\u001b[0;31mAssertionError\u001b[0m                            Traceback (most recent call last)",
      "Cell \u001b[0;32mIn[23], line 1\u001b[0m\n\u001b[0;32m----> 1\u001b[0m \u001b[38;5;28;01massert\u001b[39;00m \u001b[38;5;28;01mFalse\u001b[39;00m\n",
      "\u001b[0;31mAssertionError\u001b[0m: "
     ]
    }
   ],
   "source": [
    "assert False"
   ]
  },
  {
   "cell_type": "markdown",
   "id": "565c0792-eaa7-4afb-814c-ee4a50ed20a0",
   "metadata": {},
   "source": [
    "# Lensing weight functions\n",
    "\n",
    "*To be improved*: For the moment there is no binning.\n",
    "\n",
    "This should compute for each redshift bin $I$ the weight function $q_I(\\chi)$ defined as\n",
    "$$\n",
    "q_I(\\chi) = \\int_\\chi^\\infty \\mathrm{d}\\chi_* \\, \\frac{\\chi_* - \\chi}{\\chi} \\, p_I(\\chi_*) \\ ,\n",
    "$$\n",
    "where $p_I(\\chi)$ is the PDF of comoving distance in the $I$th bin. In the following cells the binning remains to be done, and $p$ is taken to be the full redshift PDF of Euclid."
   ]
  },
  {
   "cell_type": "code",
   "execution_count": null,
   "id": "bbeae40b-7da0-48ef-81dc-3e84081d3621",
   "metadata": {},
   "outputs": [],
   "source": [
    "def redshift_distribution_Euclid(z):\n",
    "    \"\"\"\n",
    "    This is the total redshift distribution of galaxies\n",
    "    expected from the Euclid survey.\n",
    "    Source: eq. (10) of https://arxiv.org/pdf/2010.07376.pdf\n",
    "    \"\"\"\n",
    "    \n",
    "    a = 0.4710\n",
    "    b = 5.1843\n",
    "    c = 0.7259\n",
    "    A = 1.75564 # ensures normalisation to 1\n",
    "    \n",
    "    n = A * (z**a + z**(a*b)) / (z**b + c)\n",
    "    \n",
    "    return n"
   ]
  },
  {
   "cell_type": "code",
   "execution_count": null,
   "id": "901d2f1f-813c-4b6c-adf0-015903ed86f7",
   "metadata": {},
   "outputs": [],
   "source": [
    "z = np.linspace(0, 6, 100)\n",
    "n = redshift_distribution_Euclid(z)\n",
    "\n",
    "plt.plot(z, n, label='Euclid galaxies')\n",
    "plt.xlabel('galaxy redshift')\n",
    "plt.ylabel('probability density')\n",
    "plt.legend()\n",
    "plt.show()"
   ]
  },
  {
   "cell_type": "code",
   "execution_count": null,
   "id": "b10ddc12-ab02-4232-9b4e-fd3bd9a0a90d",
   "metadata": {},
   "outputs": [],
   "source": [
    "def get_q_Euclid(zmax=6, nchi=1000):\n",
    "    \"\"\"\n",
    "    Compute the lensing efficiency function for all galaxy Euclid bins together,\n",
    "    as a function of comoving distance chi, in Mpc.\n",
    "    \"\"\"\n",
    "    \n",
    "    chimax = background.comoving_radial_distance(zmax)\n",
    "    \n",
    "    # define the q integral\n",
    "    def q_integral(chi):\n",
    "        \n",
    "        z = background.redshift_at_comoving_radial_distance(chi)\n",
    "        \n",
    "        def integrand(zs):\n",
    "            chis = background.comoving_radial_distance(zs)\n",
    "            ps = redshift_distribution_Euclid(zs)\n",
    "            return (1 - chi / chis) * ps\n",
    "            \n",
    "        q, err = integrate.quad(integrand, z, zmax)\n",
    "        return q\n",
    "    \n",
    "    # interpolate\n",
    "    chi_sample = np.linspace(0, chimax, nchi)\n",
    "    q_sample = [q_integral(chi) for chi in chi_sample]\n",
    "    q_sample = np.array(q_sample)\n",
    "    #for chi in chi_sample:\n",
    "    #    q = q_integral(chi)\n",
    "    #    q_sample.append(q)\n",
    "    #q_sample = np.array(q_sample)\n",
    "    \n",
    "    q_func = CubicSpline(chi_sample, q_sample)\n",
    "    \n",
    "    return q_func"
   ]
  },
  {
   "cell_type": "code",
   "execution_count": null,
   "id": "eb0a3169-13e0-4329-bfde-d10337a603b4",
   "metadata": {},
   "outputs": [],
   "source": [
    "q_Euclid_intp = get_q_Euclid()"
   ]
  },
  {
   "cell_type": "code",
   "execution_count": null,
   "id": "96c8399e",
   "metadata": {},
   "outputs": [],
   "source": [
    "chi = np.linspace(0,10000,100)"
   ]
  },
  {
   "cell_type": "code",
   "execution_count": null,
   "id": "6952260d-8c43-4cdb-906d-60e8048501fd",
   "metadata": {},
   "outputs": [],
   "source": [
    "plt.plot(chi, chi * q_Euclid_intp(chi), label=r'$\\chi q(\\chi)$')\n",
    "plt.xlabel(r'comoving distance $\\chi$ [Mpc]')\n",
    "plt.ylabel(r'lensing efficiency [Mpc]')\n",
    "plt.legend(frameon=False)\n",
    "plt.show()"
   ]
  },
  {
   "cell_type": "markdown",
   "id": "47ccc9fd-9b0a-4772-bbb1-00f113efcc5f",
   "metadata": {},
   "source": [
    "# Shear angular power spectrum\n",
    "\n",
    "To be modified to include binning. The formula is obtained using Limber's approximation, and the angular power spectrum for redshift bins $I, J$ reads\n",
    "$$\n",
    "C_\\ell^{IJ}\n",
    "=\n",
    "\\int_0^\\infty \\mathrm{d}\\chi \\; q_I(\\chi) q_J(\\chi) \\, P_W\\left[\\frac{\\ell+1/2}{\\chi}, z(\\chi)\\right]\n",
    "$$"
   ]
  },
  {
   "cell_type": "code",
   "execution_count": null,
   "id": "636d8f34-d165-4228-97a5-c294c13a5a32",
   "metadata": {},
   "outputs": [],
   "source": [
    "def get_cls_shear(chimax, lmax, nl):\n",
    "    \"\"\"\n",
    "    This function generates Cls for convergence and shear\n",
    "    It takes as argument the maximum multipole lmax.\n",
    "    nl is the number of values to be computed.\n",
    "    \"\"\"\n",
    "    \n",
    "    nz = 100 #number of elements for discrete integral along the los\n",
    "    \n",
    "    # Conformal distances and redshifts\n",
    "    results = camb.get_background(pars)\n",
    "    chis = np.linspace(0, chimax, nz)\n",
    "    zs = results.redshift_at_comoving_radial_distance(chis)\n",
    "    \n",
    "    # Array of delta_chi, and drop first and last points where things go singular\n",
    "    dchis = (chis[2:]-chis[:-2])/2\n",
    "    chis = chis[1:-1]\n",
    "    zs = zs[1:-1]\n",
    "    \n",
    "    # Lensing kernel (here normal shear)\n",
    "    kernel = q_Euclid_intp(chis)**2\n",
    "    \n",
    "    # Integration over chi\n",
    "    lmin = 1\n",
    "    ls = np.logspace(np.log10(lmin), np.log10(lmax), nl)\n",
    "    cl = np.zeros(ls.shape)\n",
    "    w = np.ones(chis.shape) #this is just used to set to zero k values out of range of interpolation\n",
    "    \n",
    "    # Check that lmax is not too big\n",
    "    if lmax > extrap_kmax * chis[-1]:\n",
    "        print(\"\"\"Warning: lmax is too large given the range of extrapolation given to CAMB\n",
    "for the power spectrum. The results cannot be trusted.\"\"\")\n",
    "    \n",
    "    for i, l in enumerate(ls):\n",
    "        k = (l + 0.5)/chis\n",
    "        w[:] = 1\n",
    "        w[k<1e-4] = 0\n",
    "        w[k>=extrap_kmax] = 0\n",
    "        cl[i] = np.dot(dchis, w * Weyl_power_spectra.P(zs, k, grid=False) * kernel)\n",
    "        \n",
    "    return ls, cl"
   ]
  },
  {
   "cell_type": "code",
   "execution_count": null,
   "id": "f1fe0ae3-7a62-404d-847f-cc2d1ee318ae",
   "metadata": {},
   "outputs": [],
   "source": [
    "lmax = 1e8\n",
    "nl = 1000\n",
    "chimax = max(chi)\n",
    "ls, cl = get_cls_shear(chimax, lmax, nl)\n",
    "cl_intp = CubicSpline(ls, cl)"
   ]
  },
  {
   "cell_type": "code",
   "execution_count": null,
   "id": "6de36e77-46aa-4846-a031-d62c91027546",
   "metadata": {},
   "outputs": [],
   "source": [
    "plt.loglog(ls, ls**2*cl_intp(ls)/(2*np.pi))\n",
    "plt.ylabel(r'$\\ell^2\\,C_\\ell^{\\gamma}/2\\pi$')\n",
    "plt.xlabel(r'$\\ell$')\n",
    "plt.show()"
   ]
  },
  {
   "cell_type": "markdown",
   "id": "8fa9d157-62e4-42ab-9c71-f2ff50fc2bef",
   "metadata": {},
   "source": [
    "# Shear correlation functions\n",
    "\n",
    "*To be modified to include binning*. We compute the plus and minus correlation functions from the angular power spectrum in the flat-sky approximation. In that framework the correlation functions are Hankel transforms of the angular power spectrum. For the redshift bins $I, J$,\n",
    "\\begin{align}\n",
    "\\xi_+^{IJ}(\\theta)\n",
    "&=\n",
    "\\int_0^\\infty \\frac{\\ell\\mathrm{d}\\ell}{2\\pi} \\, J_0(\\ell \\theta) C^{IJ}_\\ell \\ ,\n",
    "\\\\\n",
    "\\xi_-^{IJ}(\\theta)\n",
    "&=\n",
    "\\int_0^\\infty \\frac{\\ell\\mathrm{d}\\ell}{2\\pi} \\, J_4(\\ell \\theta) C^{IJ}_\\ell \\ ,\n",
    "\\end{align}\n",
    "where $J_n(x)$ are Bessel functions."
   ]
  },
  {
   "cell_type": "code",
   "execution_count": null,
   "id": "d8943770-1e56-4d65-bfe0-9be78b0ec5d0",
   "metadata": {},
   "outputs": [],
   "source": [
    "def get_correlations(cl_intp, Thetamin, Thetamax, nTheta=1000):\n",
    "    \"\"\"\n",
    "    Generates the + and - correlation functions from the angular power spectrum\n",
    "    using Hankel transformations, for a range of apertures [Thetamin, Thetamax]\n",
    "    expressed in radians.\n",
    "    The first argument is the interpolation of the cls.\n",
    "    It returns the correlation functions as arrays.\n",
    "    \"\"\"\n",
    "    \n",
    "    # initialise Hankel transforms\n",
    "    ht0 = HankelTransform(nu=0, N=1e4, h=1e-3) # for xi_plus\n",
    "    ht4 = HankelTransform(nu=4, N=1e4, h=1e-3) # for xi_minus\n",
    "    \n",
    "    # define angular domain\n",
    "    #logThetamin = np.log10(Thetamin)\n",
    "    #logThetamax = np.log10(Thetamax)\n",
    "    #nTheta = 100 * int(logThetamax - logThetamin) # 100 points per decade\n",
    "    #Theta = np.logspace(logThetamin, logThetamax, nTheta) # separation angles, in arcmin\n",
    "    #nTheta = 1000 # number of points\n",
    "    #Theta = np.linspace(Thetamin, Thetamax, nTheta)\n",
    "    logThetamin = np.log10(Thetamin)\n",
    "    logThetamax = np.log10(Thetamax)\n",
    "    Theta = np.logspace(logThetamin, logThetamax, nTheta)\n",
    "    Theta = np.append([0], Theta)\n",
    "    #print(Theta)\n",
    "    xi_plus = ht0.transform(cl_intp, Theta, ret_err=False)/(2*np.pi)\n",
    "    xi_minus = ht4.transform(cl_intp, Theta, ret_err=False)/(2*np.pi)\n",
    "    \n",
    "    return Theta, xi_plus, xi_minus"
   ]
  },
  {
   "cell_type": "code",
   "execution_count": null,
   "id": "4da7593c-9d4e-4a38-8d67-b1a167f15d01",
   "metadata": {},
   "outputs": [],
   "source": [
    "Thetamin = arcmintorad(1)\n",
    "Thetamax = np.pi\n",
    "nTheta = 1000\n",
    "\n",
    "Theta, xi_plus, xi_minus = get_correlations(\n",
    "    cl_intp, Thetamin, Thetamax, nTheta)"
   ]
  },
  {
   "cell_type": "code",
   "execution_count": null,
   "id": "44ebdd12-8e5f-4686-9387-0f89ddd6188b",
   "metadata": {},
   "outputs": [],
   "source": [
    "Theta_arcmin = radtoarcmin(Theta)\n",
    "\n",
    "# Plus correlations\n",
    "plt.plot(Theta_arcmin,\n",
    "         Theta_arcmin * xi_plus * 1e4, label=r'$\\xi^+_{\\gamma}$')\n",
    "# Minus correlations\n",
    "plt.plot(Theta_arcmin,\n",
    "         Theta_arcmin * xi_minus * 1e4, label=r'$\\xi^-_{\\gamma}$')\n",
    "plt.xlabel(r'angular separation $\\Theta$ (arcmin)')\n",
    "plt.ylabel(r'$\\Theta\\,\\xi^\\pm_{\\gamma}$ ($10^{-4}$ arcmin)')\n",
    "plt.legend(frameon=False)\n",
    "plt.show()"
   ]
  },
  {
   "cell_type": "code",
   "execution_count": null,
   "id": "9a7fc358-df9f-426e-a278-64ff108de75b",
   "metadata": {},
   "outputs": [],
   "source": [
    "xi_plus_intp = CubicSpline(Theta, xi_plus)\n",
    "xi_minus_intp = CubicSpline(Theta, xi_minus)"
   ]
  },
  {
   "cell_type": "markdown",
   "id": "04507e3f-f2a5-4893-bc37-339c7806ebc3",
   "metadata": {},
   "source": [
    "# Angular binning"
   ]
  },
  {
   "cell_type": "code",
   "execution_count": null,
   "id": "a4ceb094-22d5-41b3-a672-78591e5f5c92",
   "metadata": {},
   "outputs": [],
   "source": [
    "class GalaxyDistribution:\n",
    "    \"\"\"\n",
    "    This class produces anything useful related to the statistics of galaxies\n",
    "    and their binning by angular separation.\n",
    "    \"\"\"\n",
    "    \n",
    "    \n",
    "    def __init__(self, Ngal=1e9, sky_coverage=15e3, Nbin=10, Thetamax=3e2):\n",
    "        \"\"\"\n",
    "        Arguments:\n",
    "        - Ngal: number of galaxies we can use\n",
    "        - sky_coverage: area of the survey footprint, in deg2 \n",
    "        - Nbin: number of bins of angular separation\n",
    "        - Thetamax: maximum angular separation, in arcmin\n",
    "        \n",
    "        All the angular attributes will be converted in rad.\n",
    "        \"\"\"\n",
    "        \n",
    "        # Galaxy number and density\n",
    "        self.Ngal = Ngal\n",
    "        self.Omegatot = sky_coverage * (np.pi / 180)**2 # in rad2\n",
    "        self.density = Ngal / self.Omegatot\n",
    "        \n",
    "        # Binning\n",
    "        self.Nbin = Nbin\n",
    "        Omega_arcmin2 = np.pi * Thetamax**2 / Nbin\n",
    "        self.Omega = Omega_arcmin2 * (np.pi / 180 / 60)**2 # in rad2\n",
    "        self.Omegas = self.Omega * np.ones(Nbin) # in rad2\n",
    "        # the list of Omegas is in case we want to have different bin sizes\n",
    "        self.limits = np.sqrt(self.Omega / np.pi * np.arange(Nbin + 1)) # in rad\n",
    "        \n",
    "        # \"Centres\" of the bins, taken as the median separation\n",
    "        self.Thetas = np.sqrt((self.limits[1:]**2 + self.limits[:-1]**2) / 2) # in rad\n",
    "        \n",
    "        \n",
    "    def compute_binned_correlations(self):\n",
    "        \"\"\"\n",
    "        This function computes the expected signal for the shear\n",
    "        autocorrelation with this binning.\n",
    "        \"\"\"\n",
    "        \n",
    "        xi_plus_bins  = []\n",
    "        xi_minus_bins = []\n",
    "        \n",
    "        Nbin   = self.Nbin\n",
    "        rs     = self.limits\n",
    "        Omegas = self.Omegas\n",
    "    \n",
    "        for a in range(Nbin):\n",
    "\n",
    "            # xi_plus\n",
    "\n",
    "            def integrand(r):\n",
    "                f = 2 * np.pi * r * xi_plus_intp(r)\n",
    "                return f\n",
    "\n",
    "            integral, err = integrate.quad(integrand, rs[a], rs[a+1])\n",
    "            integral /= Omegas[a]\n",
    "            xi_plus_bins.append(integral)\n",
    "\n",
    "            # xi_minus\n",
    "\n",
    "            def integrand(r):\n",
    "                f = 2 * np.pi * r * xi_minus_intp(r)\n",
    "                return f\n",
    "\n",
    "            integral, err = integrate.quad(integrand, rs[a], rs[a+1])\n",
    "            integral /= Omegas[a]\n",
    "            xi_minus_bins.append(integral)\n",
    "            \n",
    "        return xi_plus_bins, xi_minus_bins"
   ]
  },
  {
   "cell_type": "code",
   "execution_count": null,
   "id": "e450358e-65f1-4b37-b4ee-87a6be0ac89a",
   "metadata": {},
   "outputs": [],
   "source": [
    "# I have chosen these numbers arbitarily. To be checked\n",
    "Ngal = 1e9\n",
    "sky_coverage = 15e3\n",
    "Nbin = 10\n",
    "Thetamax = 300\n",
    "\n",
    "gal_dist = GalaxyDistribution(Ngal, sky_coverage, Nbin, Thetamax)\n",
    "Thetas = gal_dist.Thetas\n",
    "\n",
    "# binned signal\n",
    "xi_shear_plus_binned, xi_shear_minus_binned = gal_dist.compute_binned_correlations()"
   ]
  },
  {
   "cell_type": "code",
   "execution_count": null,
   "id": "0a5fc57e-652c-4367-8299-a28ce0f2172a",
   "metadata": {},
   "outputs": [],
   "source": [
    "Theta_arcmin = radtoarcmin(Thetas)\n",
    "\n",
    "plt.semilogy(Theta_arcmin, xi_shear_plus_binned, 'o-', label=r\"$\\xi^+_{\\gamma}(a)$\")\n",
    "plt.semilogy(Theta_arcmin, xi_shear_minus_binned, 'o-', label=r\"$\\xi^-_{\\gamma}(a)$\")\n",
    "plt.xlabel(r\"bin median separation $\\bar{\\Theta}_a$ [arcmin]\")\n",
    "plt.ylabel(r\"binned correlation functions\")\n",
    "plt.legend(frameon=False)\n",
    "plt.show()"
   ]
  }
 ],
 "metadata": {
  "kernelspec": {
   "display_name": "Python 3 (ipykernel)",
   "language": "python",
   "name": "python3"
  },
  "language_info": {
   "codemirror_mode": {
    "name": "ipython",
    "version": 3
   },
   "file_extension": ".py",
   "mimetype": "text/x-python",
   "name": "python",
   "nbconvert_exporter": "python",
   "pygments_lexer": "ipython3",
   "version": "3.11.5"
  }
 },
 "nbformat": 4,
 "nbformat_minor": 5
}
